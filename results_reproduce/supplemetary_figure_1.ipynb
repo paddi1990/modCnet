{
 "cells": [
  {
   "cell_type": "code",
   "execution_count": 1,
   "id": "008ddc42-8a4d-4f38-b299-6ebdd745e7e3",
   "metadata": {
    "tags": []
   },
   "outputs": [
    {
     "name": "stdout",
     "output_type": "stream",
     "text": [
      "3119\n"
     ]
    }
   ],
   "source": [
    "sam_file=\"/home/wuyou/Projects/Os_AD/data/unmod.sorted.sam\"\n",
    "gene_list=[]\n",
    "with open(sam_file) as f:\n",
    "    count_dict_unmod={}\n",
    "    mapped_reads_count=0\n",
    "    for line in f:\n",
    "        contig=line.split(\"\\t\")[2]\n",
    "        flag=line.split(\"\\t\")[1]\n",
    "        if flag!=\"0\":\n",
    "            continue\n",
    "        mapped_reads_count+=1\n",
    "        if contig not in count_dict_unmod:\n",
    "            count_dict_unmod[contig]=0\n",
    "        count_dict_unmod[contig]+=1\n",
    "        if contig not in gene_list:\n",
    "            gene_list.append(contig)\n",
    "\n",
    "print(len(count_dict_unmod))"
   ]
  },
  {
   "cell_type": "code",
   "execution_count": 2,
   "id": "e6f0f845-8866-4044-b71d-5002f71541d0",
   "metadata": {
    "tags": []
   },
   "outputs": [
    {
     "name": "stdout",
     "output_type": "stream",
     "text": [
      "5232\n",
      "303881\n"
     ]
    }
   ],
   "source": [
    "sam_file=\"/home/wuyou/Projects/Os_AD/data/m5C.sorted.sam\"\n",
    "gene_list=[]\n",
    "with open(sam_file) as f:\n",
    "    count_dict_m5C={}\n",
    "    mapped_reads_count=0\n",
    "    for line in f:\n",
    "        contig=line.split(\"\\t\")[2]\n",
    "        flag=line.split(\"\\t\")[1]\n",
    "        if flag!=\"0\":\n",
    "            continue\n",
    "        mapped_reads_count+=1\n",
    "        if contig not in count_dict_m5C:\n",
    "            count_dict_m5C[contig]=0\n",
    "        count_dict_m5C[contig]+=1\n",
    "        if contig not in gene_list:\n",
    "            gene_list.append(contig)\n",
    "            \n",
    "\n",
    "print(len(count_dict_m5C))\n",
    "print(mapped_reads_count)"
   ]
  },
  {
   "cell_type": "code",
   "execution_count": 3,
   "id": "ffbad33b-fa17-4dfd-8d23-164303a3e5a9",
   "metadata": {
    "tags": []
   },
   "outputs": [
    {
     "name": "stdout",
     "output_type": "stream",
     "text": [
      "11387\n",
      "386863\n"
     ]
    }
   ],
   "source": [
    "sam_file=\"/data/wuyou/TandemMod_crop/data/IVET_ac4C/ac4C.sam\"\n",
    "gene_list=[]\n",
    "with open(sam_file) as f:\n",
    "    count_dict_ac4C={}\n",
    "    mapped_reads_count=0\n",
    "    for line in f:\n",
    "        contig=line.split(\"\\t\")[2]\n",
    "        flag=line.split(\"\\t\")[1]\n",
    "        if flag!=\"0\":\n",
    "            continue\n",
    "        mapped_reads_count+=1\n",
    "        if contig not in count_dict_ac4C:\n",
    "            count_dict_ac4C[contig]=0\n",
    "        count_dict_ac4C[contig]+=1\n",
    "        if contig not in gene_list:\n",
    "            gene_list.append(contig)\n",
    "print(len(count_dict_ac4C))\n",
    "print(mapped_reads_count)            "
   ]
  },
  {
   "cell_type": "code",
   "execution_count": null,
   "id": "403484aa-b788-4d5c-a84c-95b0d61078ee",
   "metadata": {
    "tags": []
   },
   "outputs": [],
   "source": []
  },
  {
   "cell_type": "code",
   "execution_count": 14,
   "id": "7afbff0a-b2c7-4659-b01c-7e91508e4f3d",
   "metadata": {
    "tags": []
   },
   "outputs": [],
   "source": [
    "import pandas as pd\n",
    "\n",
    "data=pd.DataFrame({\"C\":count_dict_unmod.keys()})\n",
    "data.to_csv(\"data/IVT_transcripts_C.csv\")\n",
    "\n",
    "data=pd.DataFrame({\"m5C\":count_dict_m5C.keys()})\n",
    "data.to_csv(\"data/IVT_transcripts_m5C.csv\")\n",
    "\n",
    "data=pd.DataFrame({\"ac4C\":count_dict_ac4C.keys()})\n",
    "data.to_csv(\"data/IVT_transcripts_ac4C.csv\")"
   ]
  },
  {
   "cell_type": "code",
   "execution_count": 1,
   "id": "e6d9bd78-3fb7-411e-9444-a5b03a12cfb5",
   "metadata": {
    "tags": []
   },
   "outputs": [
    {
     "name": "stderr",
     "output_type": "stream",
     "text": [
      "Loading required package: dplyr\n",
      "\n",
      "\n",
      "Attaching package: ‘dplyr’\n",
      "\n",
      "\n",
      "The following objects are masked from ‘package:stats’:\n",
      "\n",
      "    filter, lag\n",
      "\n",
      "\n",
      "The following objects are masked from ‘package:base’:\n",
      "\n",
      "    intersect, setdiff, setequal, union\n",
      "\n",
      "\n",
      "Loading required package: grid\n",
      "\n",
      "Loading required package: ggplot2\n",
      "\n"
     ]
    },
    {
     "data": {
      "image/png": "[encoded data removed]",
      "text/plain": [
       "plot without title"
      ]
     },
     "metadata": {
      "image/png": {
       "height": 420,
       "width": 420
      }
     },
     "output_type": "display_data"
    }
   ],
   "source": [
    "#R venn plot\n",
    "\n",
    "library(ggvenn)\n",
    "\n",
    "\n",
    "df1 <- read.table(\"data/IVT_transcripts_C.csv\",sep=\",\",header=1)\n",
    "df2 <- read.table(\"data/IVT_transcripts_m5C.csv\",sep=\",\",header=1)\n",
    "df3 <- read.table(\"data/IVT_transcripts_ac4C.csv\",sep=\",\",header=1)\n",
    "\n",
    "\n",
    "x<-list(`IVT-C`=df1$C,\n",
    "        `IVT-m5C`=df2$m5C,\n",
    "        `IVT-ac4C`=df3$ac4C)\n",
    "\n",
    "\n",
    "\n",
    "\n",
    "p <- ggvenn(x,\n",
    "       c(\"IVT-C\",\"IVT-ac4C\", \"IVT-m5C\"),\n",
    "       show_percentage = F,\n",
    "       stroke_color = \"white\",\n",
    "       fill_color = c(\"#ffb2b2\",\"#b2e7cb\",\"#b2d4ec\"),\n",
    "       set_name_color = c(\"#ff0000\",\"#4a9b83\",\"#1d6295\"),\n",
    "       text_size = 3,\n",
    "       set_name_size = 4,\n",
    "\n",
    "    )\n",
    "       #set_name_color = c(\"#ff0000\",\"#4a9b83\",\"#1d6295\"))\n",
    "\n",
    "#color: \"#BEB8DC\",\"#FA7F6F\",\"#82B0D2\",\"#FFBE7A\",\"#8ECFC9\",\n",
    "# \"#E7DAD2\",\"#999999\"\n",
    "\n",
    "\n",
    "p\n",
    "ggsave(\"figure/venn_plot_transcript_count.pdf\", width = 6, height = 7, units = \"cm\",device = 'pdf', dpi = 600)\n",
    "\n",
    "\n"
   ]
  },
  {
   "cell_type": "code",
   "execution_count": 4,
   "id": "e14392f0-a63d-4f08-b913-ed545a354cbb",
   "metadata": {
    "tags": []
   },
   "outputs": [
    {
     "name": "stdout",
     "output_type": "stream",
     "text": [
      "13086\n"
     ]
    }
   ],
   "source": [
    "import numpy as np\n",
    "\n",
    "count_dict_overlap={}\n",
    "\n",
    "for contig in count_dict_unmod:\n",
    "\n",
    "    if contig not in count_dict_overlap:\n",
    "        count_dict_overlap[contig]=[0]*3\n",
    "    count_dict_overlap[contig][0]=count_dict_unmod[contig]\n",
    "    \n",
    "\n",
    "\n",
    "for contig in count_dict_m5C:\n",
    "\n",
    "    if contig not in count_dict_overlap:\n",
    "\n",
    "        count_dict_overlap[contig]=[0]*3\n",
    "    count_dict_overlap[contig][1]=count_dict_m5C[contig]\n",
    "    \n",
    "    \n",
    "for contig in count_dict_ac4C:\n",
    "\n",
    "    if contig not in count_dict_overlap:\n",
    "\n",
    "        count_dict_overlap[contig]=[0]*3\n",
    "    count_dict_overlap[contig][2]=count_dict_ac4C[contig]    \n",
    "    \n",
    "    \n",
    "print(len(count_dict_overlap))\n",
    "count=0\n",
    "contig_list=[]\n",
    "for contig in count_dict_overlap:\n",
    "\n",
    "    if count_dict_overlap[contig][0]<1 or count_dict_overlap[contig][1]<1 or count_dict_overlap[contig][2]<1:\n",
    "        contig_list.append(contig)\n",
    "        continue\n",
    "\n",
    "for contig in contig_list:\n",
    "\n",
    "    count_dict_overlap.pop(contig)\n",
    "    \n"
   ]
  },
  {
   "cell_type": "code",
   "execution_count": null,
   "id": "077cc347-1c68-435f-bbc2-1f8bf184bad9",
   "metadata": {},
   "outputs": [],
   "source": []
  },
  {
   "cell_type": "code",
   "execution_count": 9,
   "id": "e66372fa-c68a-4402-923a-1b76eb5e6de4",
   "metadata": {
    "tags": []
   },
   "outputs": [
    {
     "name": "stdout",
     "output_type": "stream",
     "text": [
      "13086\n",
      "                            id modification       value\n",
      "0     LOC_Os01g01170.1.MSUv7.0        IVT-C  461.801333\n",
      "1     LOC_Os01g01369.1.MSUv7.0        IVT-C  162.729994\n",
      "2     LOC_Os01g01650.1.MSUv7.0        IVT-C  103.355536\n",
      "3     LOC_Os01g01660.1.MSUv7.0        IVT-C  158.331886\n",
      "4     LOC_Os01g02150.1.MSUv7.0        IVT-C   21.990540\n",
      "...                        ...          ...         ...\n",
      "6523  LOC_Os09g38070.1.MSUv7.0     IVT-ac4C  147.338980\n",
      "6524  LOC_Os09g38090.1.MSUv7.0     IVT-ac4C    7.754683\n",
      "6525  LOC_Os09g38370.1.MSUv7.0     IVT-ac4C   20.679155\n",
      "6526  LOC_Os09g38970.1.MSUv7.0     IVT-ac4C   18.094261\n",
      "6527  LOC_Os09g39540.1.MSUv7.0     IVT-ac4C    2.584894\n",
      "\n",
      "[6528 rows x 3 columns]\n"
     ]
    },
    {
     "name": "stderr",
     "output_type": "stream",
     "text": [
      "/home/wuyou/.conda/envs/TandemMod/lib/python3.7/site-packages/plotnine/layer.py:324: PlotnineWarning: stat_density : Removed 1539 rows containing non-finite values.\n"
     ]
    },
    {
     "data": {
      "image/png": "[encoded data removed]",
      "text/plain": [
       "<Figure size 180x122 with 1 Axes>"
      ]
     },
     "metadata": {},
     "output_type": "display_data"
    },
    {
     "name": "stdout",
     "output_type": "stream",
     "text": [
      "\n"
     ]
    },
    {
     "name": "stderr",
     "output_type": "stream",
     "text": [
      "/home/wuyou/.conda/envs/TandemMod/lib/python3.7/site-packages/plotnine/ggplot.py:721: PlotnineWarning: Saving 1.8 x 1.22 in image.\n",
      "/home/wuyou/.conda/envs/TandemMod/lib/python3.7/site-packages/plotnine/ggplot.py:722: PlotnineWarning: Filename: figure/IVT_sequencing_depth.pdf\n",
      "/home/wuyou/.conda/envs/TandemMod/lib/python3.7/site-packages/plotnine/layer.py:324: PlotnineWarning: stat_density : Removed 1539 rows containing non-finite values.\n"
     ]
    }
   ],
   "source": [
    "import numpy as np\n",
    "\n",
    "count_dict_overlap={}\n",
    "\n",
    "for contig in count_dict_unmod:\n",
    "\n",
    "    if contig not in count_dict_overlap:\n",
    "        count_dict_overlap[contig]=[0]*3\n",
    "    count_dict_overlap[contig][0]=count_dict_unmod[contig]\n",
    "    \n",
    "\n",
    "\n",
    "for contig in count_dict_m5C:\n",
    "\n",
    "    if contig not in count_dict_overlap:\n",
    "\n",
    "        count_dict_overlap[contig]=[0]*3\n",
    "    count_dict_overlap[contig][1]=count_dict_m5C[contig]\n",
    "    \n",
    "    \n",
    "for contig in count_dict_ac4C:\n",
    "\n",
    "    if contig not in count_dict_overlap:\n",
    "\n",
    "        count_dict_overlap[contig]=[0]*3\n",
    "    count_dict_overlap[contig][2]=count_dict_ac4C[contig]    \n",
    "    \n",
    "    \n",
    "print(len(count_dict_overlap))\n",
    "count=0\n",
    "contig_list=[]\n",
    "for contig in count_dict_overlap:\n",
    "\n",
    "    if count_dict_overlap[contig][0]<1 or count_dict_overlap[contig][1]<1 or count_dict_overlap[contig][2]<1:\n",
    "        contig_list.append(contig)\n",
    "        continue\n",
    "\n",
    "for contig in contig_list:\n",
    "\n",
    "    count_dict_overlap.pop(contig)\n",
    "    \n",
    "\n",
    "\n",
    "#reads count to PPM\n",
    "import pandas as pd\n",
    "mapped_reads=[454741,303881,386863]\n",
    "\n",
    "\n",
    "            \n",
    "for contig in count_dict_overlap:\n",
    "    read_count=count_dict_overlap[contig]\n",
    "    for i in range(3):\n",
    "        read_count[i]=read_count[i]/mapped_reads[i]*1e6\n",
    "    count_dict_overlap[contig]=read_count\n",
    "data=pd.DataFrame.from_dict(count_dict_overlap,orient=\"index\")   \n",
    "\n",
    "\n",
    "\n",
    "import pandas as pd\n",
    "from plotnine import *\n",
    "\n",
    "black = '#222222'\n",
    "gray = '#666666'\n",
    "red = '#FF3333'\n",
    "green = '#66CC00'\n",
    "blue = '#3333FF'\n",
    "purple = '#9933FF'\n",
    "orange = '#FF8000'\n",
    "yellow = '#FFFF33'\n",
    "\n",
    "import plotnine\n",
    "plotnine.options.base_family = 'Arial'\n",
    "\n",
    "data.rename(columns = {0:'IVT-C', 1:'IVT-m5C',2:\"IVT-ac4C\"}, inplace = True)\n",
    "data[\"id\"]=data.index\n",
    "\n",
    "data=pd.melt(data,id_vars=\"id\")\n",
    "data=data.rename(columns={\"variable\":\"modification\"})\n",
    "print(data)\n",
    "p1=(ggplot()\n",
    "    +geom_density(data,aes(x=\"value\",color='modification', fill='modification'),alpha=0.1)\n",
    "    +theme(figure_size=[1.8,1.22],\n",
    "        axis_text=element_text(size=6,family=\"Arial\",color=\"black\"),\n",
    "        axis_title_x=element_text(size=6,family=\"Arial\",color=\"black\"),\n",
    "        axis_title_y=element_text(size=6,family=\"Arial\",color=\"black\"),\n",
    "        panel_background=element_rect(fill=gray, alpha=0),\n",
    "        panel_grid_major=element_line(size=0.3, alpha=0,color=black),\n",
    "        panel_grid_minor=element_line(size=0.3, alpha=0,color=black),\n",
    "        panel_border=element_rect(color=black, size=1),\n",
    "        legend_title = element_text(size=6,alpha=0), #change legend title font size\n",
    "        legend_text = element_text(size=6),\n",
    "        legend_background=element_rect(size=0.5,alpha=0),\n",
    "        legend_position=(0.75,0.65), \n",
    "        legend_key_size=4) #change legend text font size)))\n",
    "\n",
    "    +xlim(0,300)\n",
    "    +labs(x = \"Depth (RPM)\",y=\"Density\")\n",
    "    #+guides(color = guide_legend(title = \"modification\"))\n",
    "    +scale_fill_manual([\"#ffb2b2\",\"#b2e7cb\",\"#b2d4ec\"])\n",
    "   \n",
    "   )\n",
    "\n",
    "print(p1)\n",
    "p1.save('figure/IVT_sequencing_depth.pdf')"
   ]
  },
  {
   "cell_type": "code",
   "execution_count": 19,
   "id": "3de8c247-e7d8-45d9-b2ae-bee70120f3ef",
   "metadata": {
    "tags": []
   },
   "outputs": [],
   "source": [
    "#length boxplot\n",
    "\n",
    "reference=\"/home/wuyou/Projects/Os_AD/data/transcripts.fasta\"\n",
    "\n",
    "\n",
    "with open(reference) as f:\n",
    "    reference_length_dict={}\n",
    "    for line in f:\n",
    "        line=line.rstrip()\n",
    "        if \">\" in line:\n",
    "            contig=line[1:].split(\" \")[0]\n",
    "            sequence=\"\"\n",
    "        else:\n",
    "            sequence+=line\n",
    "            reference_length_dict[contig]=len(sequence)\n",
    "\n",
    "read_length=[]\n",
    "modification=[]\n",
    "\n",
    "sam_file=\"/home/wuyou/Projects/Os_AD/data/unmod.sorted.sam\"\n",
    "with open(sam_file) as f:\n",
    "    for i,line in enumerate(f):\n",
    "        read_id=line.split(\"\\t\")[0]\n",
    "        flag=line.split(\"\\t\")[1]\n",
    "        if flag != \"0\":\n",
    "            continue\n",
    "        \n",
    "        contig=line.split(\"\\t\")[2]\n",
    "        sequence=line.split(\"\\t\")[9]\n",
    "        length_ratio=len(sequence)#/reference_length_dict[contig]\n",
    "        \n",
    "        #if length_ratio>1:\n",
    "            #length_ratio=1\n",
    "        \n",
    "        if i%10==0:\n",
    "        \n",
    "            read_length.append(length_ratio)\n",
    "            modification.append(\"IVT-C\")\n",
    "\n",
    "        \n",
    "\n",
    "\n",
    "sam_file=\"/home/wuyou/Projects/Os_AD/data/m5C.sorted.sam\"\n",
    "with open(sam_file) as f:\n",
    "    for i,line in enumerate(f):\n",
    "        read_id=line.split(\"\\t\")[0]\n",
    "        flag=line.split(\"\\t\")[1]\n",
    "        if flag != \"0\":\n",
    "            continue\n",
    "        \n",
    "        contig=line.split(\"\\t\")[2]\n",
    "        sequence=line.split(\"\\t\")[9]\n",
    "        length_ratio=len(sequence)#/reference_length_dict[contig]\n",
    "        \n",
    "        #if length_ratio>1:\n",
    "            #length_ratio=1\n",
    "            \n",
    "        if i%10==0:\n",
    "            read_length.append(length_ratio)\n",
    "            modification.append(\"IVT-m5C\")\n",
    "            \n",
    "            \n",
    "sam_file=\"/data/wuyou/TandemMod_crop/data/IVET_ac4C/ac4C.sam\"\n",
    "with open(sam_file) as f:\n",
    "    for i,line in enumerate(f):\n",
    "        read_id=line.split(\"\\t\")[0]\n",
    "        flag=line.split(\"\\t\")[1]\n",
    "        if flag != \"0\":\n",
    "            continue\n",
    "        \n",
    "        contig=line.split(\"\\t\")[2]\n",
    "        sequence=line.split(\"\\t\")[9]\n",
    "        length_ratio=len(sequence)#/reference_length_dict[contig]\n",
    "        \n",
    "        #if length_ratio>1:\n",
    "            #length_ratio=1\n",
    "            \n",
    "        if i%10==0:\n",
    "            read_length.append(length_ratio)\n",
    "            modification.append(\"IVT-ac4C\")            \n",
    "            "
   ]
  },
  {
   "cell_type": "code",
   "execution_count": 29,
   "id": "1fe5669a-3181-490f-bb81-41a196cb6858",
   "metadata": {
    "tags": []
   },
   "outputs": [
    {
     "data": {
      "image/png": "[encoded data removed]",
      "text/plain": [
       "<Figure size 152x133 with 1 Axes>"
      ]
     },
     "metadata": {},
     "output_type": "display_data"
    },
    {
     "name": "stdout",
     "output_type": "stream",
     "text": [
      "\n"
     ]
    },
    {
     "name": "stderr",
     "output_type": "stream",
     "text": [
      "/home/wuyou/.conda/envs/TandemMod/lib/python3.7/site-packages/plotnine/ggplot.py:721: PlotnineWarning: Saving 1.52 x 1.33 in image.\n",
      "/home/wuyou/.conda/envs/TandemMod/lib/python3.7/site-packages/plotnine/ggplot.py:722: PlotnineWarning: Filename: figure/IVT_read_length.pdf\n"
     ]
    }
   ],
   "source": [
    "from plotnine import *\n",
    "import pandas as pd\n",
    "\n",
    "black = '#222222'\n",
    "gray = '#666666'\n",
    "red = '#FF3333'\n",
    "green = '#66CC00'\n",
    "blue = '#3333FF'\n",
    "purple = '#9933FF'\n",
    "orange = '#FF8000'\n",
    "yellow = '#FFFF33'\n",
    "\n",
    "data=pd.DataFrame({\"read length\":read_length,\"modification\":modification}) \n",
    "p = (ggplot()\n",
    "        \n",
    "        +geom_violin(data,aes(x=\"modification\",y=\"read length\",group=\"modification\",fill=\"modification\"),alpha=0.5)\n",
    "        +geom_boxplot(data,aes(x=\"modification\",y=\"read length\",group=\"modification\",fill=\"modification\"),width=0.2,outlier_alpha=0)\n",
    "        +theme(panel_background=element_rect(fill=gray, alpha=0),\n",
    "            panel_grid_major=element_line(size=0.3, alpha=0,color=black),\n",
    "            panel_grid_minor=element_line(size=0.3, alpha=0,color=black),\n",
    "            panel_border=element_rect(color=black, size=1),\n",
    "            axis_text=element_text(size=6,family=\"Arial\",color=\"black\"),\n",
    "            axis_title_x=element_text(size=6,family=\"Arial\",color=\"black\"),\n",
    "            axis_title_y=element_text(size=6,family=\"Arial\",color=\"black\"),\n",
    "            figure_size=[1.52,1.33],\n",
    "            legend_title = element_text(size=6), #change legend title font size\n",
    "            legend_text = element_text(size=6),\n",
    "            legend_background=element_rect(size=0.5,alpha=0),\n",
    "            #legend_position=(0.60,0.3),\n",
    "            legend_position=None,\n",
    "            legend_key_size=4) #change legend text font size\n",
    "        +labs(x = \"Modification\", y =\"Read length\",Color=\"Dataset\")\n",
    "        \n",
    ")\n",
    "\n",
    "print(p)\n",
    "p.save('figure/IVT_read_length.pdf')"
   ]
  },
  {
   "cell_type": "code",
   "execution_count": 5,
   "id": "ecd07d1c-f162-4707-94f9-8087c14ae47c",
   "metadata": {},
   "outputs": [
    {
     "name": "stdout",
     "output_type": "stream",
     "text": [
      "52\n",
      "30003 30003\n",
      "plotting\n"
     ]
    },
    {
     "data": {
      "image/png": "[encoded data removed]",
      "text/plain": [
       "<Figure size 230x122 with 1 Axes>"
      ]
     },
     "metadata": {},
     "output_type": "display_data"
    },
    {
     "name": "stdout",
     "output_type": "stream",
     "text": [
      "\n"
     ]
    },
    {
     "name": "stderr",
     "output_type": "stream",
     "text": [
      "/home/wuyou/.conda/envs/TandemMod/lib/python3.7/site-packages/plotnine/ggplot.py:721: PlotnineWarning: Saving 2.3 x 1.22 in image.\n",
      "/home/wuyou/.conda/envs/TandemMod/lib/python3.7/site-packages/plotnine/ggplot.py:722: PlotnineWarning: Filename: figure/statistics_base_quality.pdf\n"
     ]
    }
   ],
   "source": [
    "#read quality plot\n",
    "\n",
    "from scipy import interpolate\n",
    "import traceback\n",
    "#import umap\n",
    "from sklearn.decomposition import PCA\n",
    "import matplotlib.pyplot as plt\n",
    "from plotnine import *\n",
    "import pandas as pd\n",
    "import re\n",
    "import numpy as np\n",
    "from statsmodels import robust\n",
    "\n",
    "black = '#222222'\n",
    "gray = '#666666'\n",
    "red = '#FF3333'\n",
    "green = '#66CC00'\n",
    "blue = '#3333FF'\n",
    "purple = '#9933FF'\n",
    "orange = '#FF8000'\n",
    "yellow = '#FFFF33'\n",
    "\n",
    "import plotnine\n",
    "\n",
    "plotnine.options.base_family = 'Arial'\n",
    "\n",
    "\n",
    "def get_mean_quality(file):\n",
    "    count=0\n",
    "    mean_quality_list=[]\n",
    "    next=\"\"\n",
    "    with open(file) as f:\n",
    "        for line in f:\n",
    "            line=line.rstrip()\n",
    "            if \"runid\" in line:\n",
    "                next=\"sequence\"\n",
    "                continue\n",
    "            if  line==\"+\":\n",
    "                next=\"quality\"\n",
    "                continue\n",
    "            if next==\"quality\":\n",
    "                base_quality_string=line\n",
    "                base_quality_list=[ord(char) for char in base_quality_string]\n",
    "                mean_quality=np.mean(base_quality_list)-33\n",
    "                mean_quality_list.append(mean_quality)\n",
    "                count+=1\n",
    "            if count>10000:\n",
    "                break\n",
    "    return mean_quality_list\n",
    "\n",
    "\n",
    "X=[]\n",
    "Y=[]\n",
    "\n",
    "file=\"/home/wuyou/Projects/Os_AD/data/unmod.fastq\"\n",
    "mean_quality_list=get_mean_quality(file)\n",
    "X.extend(mean_quality_list)\n",
    "Y.extend([\"C\"]*len(mean_quality_list))\n",
    "\n",
    "\n",
    "\n",
    "file=\"/home/wuyou/Projects/Os_AD/data/m5C.fastq\"\n",
    "mean_quality_list=get_mean_quality(file)\n",
    "X.extend(mean_quality_list)\n",
    "Y.extend([\"m5C\"]*len(mean_quality_list))\n",
    "\n",
    "file=\"/data/wuyou/TandemMod_crop/data/IVET_ac4C/ac4C.fastq\"\n",
    "mean_quality_list=get_mean_quality(file)\n",
    "X.extend(mean_quality_list)\n",
    "Y.extend([\"ac4C\"]*len(mean_quality_list))\n",
    "\n",
    "\n",
    "\n",
    "\n",
    "print(52)\n",
    "print(len(X),len(Y))\n",
    "data=pd.DataFrame(X)\n",
    "#data[\"label\"]=Y\n",
    "data.columns=[\"base quality\"]\n",
    "data[\"modification\"]=Y\n",
    "\n",
    "#####################################################################################################################\n",
    "print(\"plotting\")\n",
    "p1=(ggplot()\n",
    "    +geom_density(data,aes(x=\"base quality\",color='modification', fill='modification'),alpha=0.1)\n",
    "    +theme(figure_size=[2.3,1.22],\n",
    "        axis_text=element_text(size=6,family=\"Arial\",color=\"black\"),\n",
    "        axis_title_x=element_text(size=6,family=\"Arial\",color=\"black\"),\n",
    "        axis_title_y=element_text(size=6,family=\"Arial\",color=\"black\"),\n",
    "        panel_background=element_rect(fill=gray, alpha=0),\n",
    "        panel_grid_major=element_line(size=0.3, alpha=0.0,color=black),\n",
    "        panel_grid_minor=element_line(size=0.3, alpha=0.0,color=black),\n",
    "        panel_border=element_rect(color=black, size=1),\n",
    "        legend_title = element_text(size=6,alpha=0), #change legend title font size\n",
    "        legend_text = element_text(size=6),\n",
    "        legend_background=element_rect(size=0.5,alpha=0),\n",
    "        legend_position=(0.81,0.65), \n",
    "        legend_key_size=4) #change legend text font size)))\n",
    "    +labs(x = \"Base quality\",y=\"Density\")\n",
    "   )\n",
    "\n",
    "print(p1)\n",
    "\"\"\"\n",
    "p2=(ggplot()+geom_line(data_mod,aes(x=\"x\",y=\"value\",group=\"variable\"),alpha=0.05,color=\"red\")\n",
    "    +geom_line(data_unmod,aes(x=\"x\",y=\"value\",group=\"variable\"),alpha=0.05,color=\"black\")\n",
    "    +theme(panel_background=element_rect(fill=gray, alpha=0),\n",
    "            panel_grid_major=element_line(size=0.3, alpha=0.3,color=black),\n",
    "            panel_grid_minor=element_line(size=0.3, alpha=0.3,color=black),\n",
    "            panel_border=element_rect(color=black, size=1),\n",
    "            legend_position = \"none\",\n",
    "          figure_size=[6,2.5])+labs(y = \"normalized signal\")   \n",
    ")\n",
    "p2\n",
    "\"\"\"\n",
    "p1.save('figure/statistics_base_quality.pdf')\n",
    "\n",
    "\n",
    "#ggpurb\n",
    "\n"
   ]
  },
  {
   "cell_type": "code",
   "execution_count": null,
   "id": "363e5d9e-d9ce-4515-a4c9-1c7613f82069",
   "metadata": {},
   "outputs": [],
   "source": []
  }
 ],
 "metadata": {
  "kernelspec": {
   "display_name": "Python 3 (ipykernel)",
   "language": "python",
   "name": "python3"
  },
  "language_info": {
   "codemirror_mode": {
    "name": "ipython",
    "version": 3
   },
   "file_extension": ".py",
   "mimetype": "text/x-python",
   "name": "python",
   "nbconvert_exporter": "python",
   "pygments_lexer": "ipython3",
   "version": "3.7.12"
  }
 },
 "nbformat": 4,
 "nbformat_minor": 5
}
